{
 "cells": [
  {
   "cell_type": "code",
   "execution_count": 1,
   "metadata": {},
   "outputs": [],
   "source": [
    "# Basic Libraries\n",
    "import numpy as np\n",
    "import pandas as pd\n",
    "import seaborn as sb\n",
    "import matplotlib.pyplot as plt # we only need pyplot\n",
    "sb.set() # set the default Seaborn style for graphics"
   ]
  },
  {
   "cell_type": "code",
   "execution_count": 2,
   "metadata": {},
   "outputs": [],
   "source": [
    "listing = pd.read_csv(\"listings.csv\")\n",
    "reviews = pd.read_csv(\"reviews.csv\")"
   ]
  },
  {
   "cell_type": "code",
   "execution_count": null,
   "metadata": {},
   "outputs": [],
   "source": []
  },
  {
   "cell_type": "markdown",
   "metadata": {},
   "source": [
    "### Sentiment Analysis"
   ]
  },
  {
   "cell_type": "code",
   "execution_count": 3,
   "metadata": {},
   "outputs": [],
   "source": [
    "import pandas as pd\n",
    "from vaderSentiment.vaderSentiment import SentimentIntensityAnalyzer\n",
    "analyser = SentimentIntensityAnalyzer()"
   ]
  },
  {
   "cell_type": "code",
   "execution_count": 4,
   "metadata": {},
   "outputs": [],
   "source": [
    "reviews['comments'] = '\"' + reviews['comments'].astype(str) + '\"'"
   ]
  },
  {
   "cell_type": "code",
   "execution_count": 5,
   "metadata": {},
   "outputs": [],
   "source": [
    "sentences = pd.DataFrame(reviews['comments'])\n",
    "sentences_ar = sentences.to_numpy()"
   ]
  },
  {
   "cell_type": "code",
   "execution_count": 6,
   "metadata": {},
   "outputs": [],
   "source": [
    "scores =[]\n",
    "\n",
    "for sentence in sentences_ar:\n",
    "    score = analyser.polarity_scores(sentence)\n",
    "    scores.append(score)\n"
   ]
  },
  {
   "cell_type": "code",
   "execution_count": 7,
   "metadata": {},
   "outputs": [
    {
     "data": {
      "text/html": [
       "<div>\n",
       "<style scoped>\n",
       "    .dataframe tbody tr th:only-of-type {\n",
       "        vertical-align: middle;\n",
       "    }\n",
       "\n",
       "    .dataframe tbody tr th {\n",
       "        vertical-align: top;\n",
       "    }\n",
       "\n",
       "    .dataframe thead th {\n",
       "        text-align: right;\n",
       "    }\n",
       "</style>\n",
       "<table border=\"1\" class=\"dataframe\">\n",
       "  <thead>\n",
       "    <tr style=\"text-align: right;\">\n",
       "      <th></th>\n",
       "      <th>id</th>\n",
       "      <th>listing_url</th>\n",
       "      <th>scrape_id</th>\n",
       "      <th>last_scraped</th>\n",
       "      <th>name</th>\n",
       "      <th>summary</th>\n",
       "      <th>space</th>\n",
       "      <th>description</th>\n",
       "      <th>experiences_offered</th>\n",
       "      <th>neighborhood_overview</th>\n",
       "      <th>...</th>\n",
       "      <th>review_scores_value</th>\n",
       "      <th>requires_license</th>\n",
       "      <th>license</th>\n",
       "      <th>jurisdiction_names</th>\n",
       "      <th>instant_bookable</th>\n",
       "      <th>cancellation_policy</th>\n",
       "      <th>require_guest_profile_picture</th>\n",
       "      <th>require_guest_phone_verification</th>\n",
       "      <th>calculated_host_listings_count</th>\n",
       "      <th>reviews_per_month</th>\n",
       "    </tr>\n",
       "  </thead>\n",
       "  <tbody>\n",
       "    <tr>\n",
       "      <th>0</th>\n",
       "      <td>241032</td>\n",
       "      <td>https://www.airbnb.com/rooms/241032</td>\n",
       "      <td>2.020000e+13</td>\n",
       "      <td>1/4/2016</td>\n",
       "      <td>Stylish Queen Anne Apartment</td>\n",
       "      <td>NaN</td>\n",
       "      <td>Make your self at home in this charming one-be...</td>\n",
       "      <td>Make your self at home in this charming one-be...</td>\n",
       "      <td>none</td>\n",
       "      <td>NaN</td>\n",
       "      <td>...</td>\n",
       "      <td>10.0</td>\n",
       "      <td>f</td>\n",
       "      <td>NaN</td>\n",
       "      <td>WASHINGTON</td>\n",
       "      <td>f</td>\n",
       "      <td>moderate</td>\n",
       "      <td>f</td>\n",
       "      <td>f</td>\n",
       "      <td>2</td>\n",
       "      <td>4.07</td>\n",
       "    </tr>\n",
       "    <tr>\n",
       "      <th>1</th>\n",
       "      <td>953595</td>\n",
       "      <td>https://www.airbnb.com/rooms/953595</td>\n",
       "      <td>2.020000e+13</td>\n",
       "      <td>1/4/2016</td>\n",
       "      <td>Bright &amp; Airy Queen Anne Apartment</td>\n",
       "      <td>Chemically sensitive? We've removed the irrita...</td>\n",
       "      <td>Beautiful, hypoallergenic apartment in an extr...</td>\n",
       "      <td>Chemically sensitive? We've removed the irrita...</td>\n",
       "      <td>none</td>\n",
       "      <td>Queen Anne is a wonderful, truly functional vi...</td>\n",
       "      <td>...</td>\n",
       "      <td>10.0</td>\n",
       "      <td>f</td>\n",
       "      <td>NaN</td>\n",
       "      <td>WASHINGTON</td>\n",
       "      <td>f</td>\n",
       "      <td>strict</td>\n",
       "      <td>t</td>\n",
       "      <td>t</td>\n",
       "      <td>6</td>\n",
       "      <td>1.48</td>\n",
       "    </tr>\n",
       "    <tr>\n",
       "      <th>2</th>\n",
       "      <td>3308979</td>\n",
       "      <td>https://www.airbnb.com/rooms/3308979</td>\n",
       "      <td>2.020000e+13</td>\n",
       "      <td>1/4/2016</td>\n",
       "      <td>New Modern House-Amazing water view</td>\n",
       "      <td>New modern house built in 2013.  Spectacular s...</td>\n",
       "      <td>Our house is modern, light and fresh with a wa...</td>\n",
       "      <td>New modern house built in 2013.  Spectacular s...</td>\n",
       "      <td>none</td>\n",
       "      <td>Upper Queen Anne is a charming neighborhood fu...</td>\n",
       "      <td>...</td>\n",
       "      <td>10.0</td>\n",
       "      <td>f</td>\n",
       "      <td>NaN</td>\n",
       "      <td>WASHINGTON</td>\n",
       "      <td>f</td>\n",
       "      <td>strict</td>\n",
       "      <td>f</td>\n",
       "      <td>f</td>\n",
       "      <td>2</td>\n",
       "      <td>1.15</td>\n",
       "    </tr>\n",
       "    <tr>\n",
       "      <th>3</th>\n",
       "      <td>278830</td>\n",
       "      <td>https://www.airbnb.com/rooms/278830</td>\n",
       "      <td>2.020000e+13</td>\n",
       "      <td>1/4/2016</td>\n",
       "      <td>Charming craftsman 3 bdm house</td>\n",
       "      <td>Cozy family craftman house in beautiful neighb...</td>\n",
       "      <td>Cozy family craftman house in beautiful neighb...</td>\n",
       "      <td>Cozy family craftman house in beautiful neighb...</td>\n",
       "      <td>none</td>\n",
       "      <td>We are in the beautiful neighborhood of Queen ...</td>\n",
       "      <td>...</td>\n",
       "      <td>9.0</td>\n",
       "      <td>f</td>\n",
       "      <td>NaN</td>\n",
       "      <td>WASHINGTON</td>\n",
       "      <td>f</td>\n",
       "      <td>strict</td>\n",
       "      <td>f</td>\n",
       "      <td>f</td>\n",
       "      <td>1</td>\n",
       "      <td>0.89</td>\n",
       "    </tr>\n",
       "    <tr>\n",
       "      <th>4</th>\n",
       "      <td>5956968</td>\n",
       "      <td>https://www.airbnb.com/rooms/5956968</td>\n",
       "      <td>2.020000e+13</td>\n",
       "      <td>1/4/2016</td>\n",
       "      <td>Private unit in a 1920s mansion</td>\n",
       "      <td>We're renting out a small private unit of one ...</td>\n",
       "      <td>If you include a bit of your background in you...</td>\n",
       "      <td>We're renting out a small private unit of one ...</td>\n",
       "      <td>none</td>\n",
       "      <td>This part of Queen Anne has wonderful views an...</td>\n",
       "      <td>...</td>\n",
       "      <td>10.0</td>\n",
       "      <td>f</td>\n",
       "      <td>NaN</td>\n",
       "      <td>WASHINGTON</td>\n",
       "      <td>f</td>\n",
       "      <td>strict</td>\n",
       "      <td>f</td>\n",
       "      <td>f</td>\n",
       "      <td>1</td>\n",
       "      <td>2.45</td>\n",
       "    </tr>\n",
       "    <tr>\n",
       "      <th>...</th>\n",
       "      <td>...</td>\n",
       "      <td>...</td>\n",
       "      <td>...</td>\n",
       "      <td>...</td>\n",
       "      <td>...</td>\n",
       "      <td>...</td>\n",
       "      <td>...</td>\n",
       "      <td>...</td>\n",
       "      <td>...</td>\n",
       "      <td>...</td>\n",
       "      <td>...</td>\n",
       "      <td>...</td>\n",
       "      <td>...</td>\n",
       "      <td>...</td>\n",
       "      <td>...</td>\n",
       "      <td>...</td>\n",
       "      <td>...</td>\n",
       "      <td>...</td>\n",
       "      <td>...</td>\n",
       "      <td>...</td>\n",
       "      <td>...</td>\n",
       "    </tr>\n",
       "    <tr>\n",
       "      <th>3166</th>\n",
       "      <td>262764</td>\n",
       "      <td>https://www.airbnb.com/rooms/262764</td>\n",
       "      <td>2.020000e+13</td>\n",
       "      <td>1/4/2016</td>\n",
       "      <td>Fremont Farmhouse</td>\n",
       "      <td>Our 2BR/1 bath home in Fremont's most fun neig...</td>\n",
       "      <td>1200 ft2 2BR, 1 Bath farmhouse with a large, t...</td>\n",
       "      <td>Our 2BR/1 bath home in Fremont's most fun neig...</td>\n",
       "      <td>none</td>\n",
       "      <td>We love that Fremont is so centrally located t...</td>\n",
       "      <td>...</td>\n",
       "      <td>8.0</td>\n",
       "      <td>f</td>\n",
       "      <td>NaN</td>\n",
       "      <td>WASHINGTON</td>\n",
       "      <td>f</td>\n",
       "      <td>strict</td>\n",
       "      <td>f</td>\n",
       "      <td>f</td>\n",
       "      <td>1</td>\n",
       "      <td>1.56</td>\n",
       "    </tr>\n",
       "    <tr>\n",
       "      <th>3167</th>\n",
       "      <td>8578490</td>\n",
       "      <td>https://www.airbnb.com/rooms/8578490</td>\n",
       "      <td>2.020000e+13</td>\n",
       "      <td>1/4/2016</td>\n",
       "      <td>Super Convenient Top Floor Apt</td>\n",
       "      <td>In the true spirit of AirBNB this unit is avai...</td>\n",
       "      <td>The building is older (1970's) so not the mode...</td>\n",
       "      <td>In the true spirit of AirBNB this unit is avai...</td>\n",
       "      <td>none</td>\n",
       "      <td>I am equidistant to Fremont and Wallingford an...</td>\n",
       "      <td>...</td>\n",
       "      <td>10.0</td>\n",
       "      <td>f</td>\n",
       "      <td>NaN</td>\n",
       "      <td>WASHINGTON</td>\n",
       "      <td>f</td>\n",
       "      <td>moderate</td>\n",
       "      <td>f</td>\n",
       "      <td>f</td>\n",
       "      <td>1</td>\n",
       "      <td>0.63</td>\n",
       "    </tr>\n",
       "    <tr>\n",
       "      <th>3168</th>\n",
       "      <td>3383329</td>\n",
       "      <td>https://www.airbnb.com/rooms/3383329</td>\n",
       "      <td>2.020000e+13</td>\n",
       "      <td>1/4/2016</td>\n",
       "      <td>OF THE TREE &amp; CLOUDS. KID FRIENDLY!</td>\n",
       "      <td>Of the Tree &amp; Clouds' \"Roots\" apartment is 8 b...</td>\n",
       "      <td>The 1-bedroom, ground-floor Roots apartment is...</td>\n",
       "      <td>Of the Tree &amp; Clouds' \"Roots\" apartment is 8 b...</td>\n",
       "      <td>none</td>\n",
       "      <td>It's taken me a while to figure out why Fremon...</td>\n",
       "      <td>...</td>\n",
       "      <td>10.0</td>\n",
       "      <td>f</td>\n",
       "      <td>NaN</td>\n",
       "      <td>WASHINGTON</td>\n",
       "      <td>t</td>\n",
       "      <td>moderate</td>\n",
       "      <td>t</td>\n",
       "      <td>t</td>\n",
       "      <td>3</td>\n",
       "      <td>4.01</td>\n",
       "    </tr>\n",
       "    <tr>\n",
       "      <th>3169</th>\n",
       "      <td>8101950</td>\n",
       "      <td>https://www.airbnb.com/rooms/8101950</td>\n",
       "      <td>2.020000e+13</td>\n",
       "      <td>1/4/2016</td>\n",
       "      <td>3BR Mountain View House in Seattle</td>\n",
       "      <td>Our 3BR/2BA house boasts incredible views of t...</td>\n",
       "      <td>Our 3BR/2BA house bright, stylish, and wheelch...</td>\n",
       "      <td>Our 3BR/2BA house boasts incredible views of t...</td>\n",
       "      <td>none</td>\n",
       "      <td>We're located near lots of family fun. Woodlan...</td>\n",
       "      <td>...</td>\n",
       "      <td>8.0</td>\n",
       "      <td>f</td>\n",
       "      <td>NaN</td>\n",
       "      <td>WASHINGTON</td>\n",
       "      <td>f</td>\n",
       "      <td>strict</td>\n",
       "      <td>f</td>\n",
       "      <td>f</td>\n",
       "      <td>8</td>\n",
       "      <td>0.30</td>\n",
       "    </tr>\n",
       "    <tr>\n",
       "      <th>3170</th>\n",
       "      <td>8902327</td>\n",
       "      <td>https://www.airbnb.com/rooms/8902327</td>\n",
       "      <td>2.020000e+13</td>\n",
       "      <td>1/4/2016</td>\n",
       "      <td>Portage Bay View!-One Bedroom Apt</td>\n",
       "      <td>800 square foot 1 bedroom basement apartment w...</td>\n",
       "      <td>This space has a great view of Portage Bay wit...</td>\n",
       "      <td>800 square foot 1 bedroom basement apartment w...</td>\n",
       "      <td>none</td>\n",
       "      <td>The neighborhood is a quiet oasis that is clos...</td>\n",
       "      <td>...</td>\n",
       "      <td>10.0</td>\n",
       "      <td>f</td>\n",
       "      <td>NaN</td>\n",
       "      <td>WASHINGTON</td>\n",
       "      <td>f</td>\n",
       "      <td>moderate</td>\n",
       "      <td>f</td>\n",
       "      <td>f</td>\n",
       "      <td>1</td>\n",
       "      <td>2.00</td>\n",
       "    </tr>\n",
       "  </tbody>\n",
       "</table>\n",
       "<p>3171 rows × 92 columns</p>\n",
       "</div>"
      ],
      "text/plain": [
       "           id                           listing_url     scrape_id  \\\n",
       "0      241032   https://www.airbnb.com/rooms/241032  2.020000e+13   \n",
       "1      953595   https://www.airbnb.com/rooms/953595  2.020000e+13   \n",
       "2     3308979  https://www.airbnb.com/rooms/3308979  2.020000e+13   \n",
       "3      278830   https://www.airbnb.com/rooms/278830  2.020000e+13   \n",
       "4     5956968  https://www.airbnb.com/rooms/5956968  2.020000e+13   \n",
       "...       ...                                   ...           ...   \n",
       "3166   262764   https://www.airbnb.com/rooms/262764  2.020000e+13   \n",
       "3167  8578490  https://www.airbnb.com/rooms/8578490  2.020000e+13   \n",
       "3168  3383329  https://www.airbnb.com/rooms/3383329  2.020000e+13   \n",
       "3169  8101950  https://www.airbnb.com/rooms/8101950  2.020000e+13   \n",
       "3170  8902327  https://www.airbnb.com/rooms/8902327  2.020000e+13   \n",
       "\n",
       "     last_scraped                                 name  \\\n",
       "0        1/4/2016         Stylish Queen Anne Apartment   \n",
       "1        1/4/2016   Bright & Airy Queen Anne Apartment   \n",
       "2        1/4/2016  New Modern House-Amazing water view   \n",
       "3        1/4/2016       Charming craftsman 3 bdm house   \n",
       "4        1/4/2016      Private unit in a 1920s mansion   \n",
       "...           ...                                  ...   \n",
       "3166     1/4/2016                    Fremont Farmhouse   \n",
       "3167     1/4/2016       Super Convenient Top Floor Apt   \n",
       "3168     1/4/2016  OF THE TREE & CLOUDS. KID FRIENDLY!   \n",
       "3169     1/4/2016   3BR Mountain View House in Seattle   \n",
       "3170     1/4/2016    Portage Bay View!-One Bedroom Apt   \n",
       "\n",
       "                                                summary  \\\n",
       "0                                                   NaN   \n",
       "1     Chemically sensitive? We've removed the irrita...   \n",
       "2     New modern house built in 2013.  Spectacular s...   \n",
       "3     Cozy family craftman house in beautiful neighb...   \n",
       "4     We're renting out a small private unit of one ...   \n",
       "...                                                 ...   \n",
       "3166  Our 2BR/1 bath home in Fremont's most fun neig...   \n",
       "3167  In the true spirit of AirBNB this unit is avai...   \n",
       "3168  Of the Tree & Clouds' \"Roots\" apartment is 8 b...   \n",
       "3169  Our 3BR/2BA house boasts incredible views of t...   \n",
       "3170  800 square foot 1 bedroom basement apartment w...   \n",
       "\n",
       "                                                  space  \\\n",
       "0     Make your self at home in this charming one-be...   \n",
       "1     Beautiful, hypoallergenic apartment in an extr...   \n",
       "2     Our house is modern, light and fresh with a wa...   \n",
       "3     Cozy family craftman house in beautiful neighb...   \n",
       "4     If you include a bit of your background in you...   \n",
       "...                                                 ...   \n",
       "3166  1200 ft2 2BR, 1 Bath farmhouse with a large, t...   \n",
       "3167  The building is older (1970's) so not the mode...   \n",
       "3168  The 1-bedroom, ground-floor Roots apartment is...   \n",
       "3169  Our 3BR/2BA house bright, stylish, and wheelch...   \n",
       "3170  This space has a great view of Portage Bay wit...   \n",
       "\n",
       "                                            description experiences_offered  \\\n",
       "0     Make your self at home in this charming one-be...                none   \n",
       "1     Chemically sensitive? We've removed the irrita...                none   \n",
       "2     New modern house built in 2013.  Spectacular s...                none   \n",
       "3     Cozy family craftman house in beautiful neighb...                none   \n",
       "4     We're renting out a small private unit of one ...                none   \n",
       "...                                                 ...                 ...   \n",
       "3166  Our 2BR/1 bath home in Fremont's most fun neig...                none   \n",
       "3167  In the true spirit of AirBNB this unit is avai...                none   \n",
       "3168  Of the Tree & Clouds' \"Roots\" apartment is 8 b...                none   \n",
       "3169  Our 3BR/2BA house boasts incredible views of t...                none   \n",
       "3170  800 square foot 1 bedroom basement apartment w...                none   \n",
       "\n",
       "                                  neighborhood_overview  ...  \\\n",
       "0                                                   NaN  ...   \n",
       "1     Queen Anne is a wonderful, truly functional vi...  ...   \n",
       "2     Upper Queen Anne is a charming neighborhood fu...  ...   \n",
       "3     We are in the beautiful neighborhood of Queen ...  ...   \n",
       "4     This part of Queen Anne has wonderful views an...  ...   \n",
       "...                                                 ...  ...   \n",
       "3166  We love that Fremont is so centrally located t...  ...   \n",
       "3167  I am equidistant to Fremont and Wallingford an...  ...   \n",
       "3168  It's taken me a while to figure out why Fremon...  ...   \n",
       "3169  We're located near lots of family fun. Woodlan...  ...   \n",
       "3170  The neighborhood is a quiet oasis that is clos...  ...   \n",
       "\n",
       "     review_scores_value requires_license license jurisdiction_names  \\\n",
       "0                   10.0                f     NaN         WASHINGTON   \n",
       "1                   10.0                f     NaN         WASHINGTON   \n",
       "2                   10.0                f     NaN         WASHINGTON   \n",
       "3                    9.0                f     NaN         WASHINGTON   \n",
       "4                   10.0                f     NaN         WASHINGTON   \n",
       "...                  ...              ...     ...                ...   \n",
       "3166                 8.0                f     NaN         WASHINGTON   \n",
       "3167                10.0                f     NaN         WASHINGTON   \n",
       "3168                10.0                f     NaN         WASHINGTON   \n",
       "3169                 8.0                f     NaN         WASHINGTON   \n",
       "3170                10.0                f     NaN         WASHINGTON   \n",
       "\n",
       "     instant_bookable cancellation_policy  require_guest_profile_picture  \\\n",
       "0                   f            moderate                              f   \n",
       "1                   f              strict                              t   \n",
       "2                   f              strict                              f   \n",
       "3                   f              strict                              f   \n",
       "4                   f              strict                              f   \n",
       "...               ...                 ...                            ...   \n",
       "3166                f              strict                              f   \n",
       "3167                f            moderate                              f   \n",
       "3168                t            moderate                              t   \n",
       "3169                f              strict                              f   \n",
       "3170                f            moderate                              f   \n",
       "\n",
       "     require_guest_phone_verification calculated_host_listings_count  \\\n",
       "0                                   f                              2   \n",
       "1                                   t                              6   \n",
       "2                                   f                              2   \n",
       "3                                   f                              1   \n",
       "4                                   f                              1   \n",
       "...                               ...                            ...   \n",
       "3166                                f                              1   \n",
       "3167                                f                              1   \n",
       "3168                                t                              3   \n",
       "3169                                f                              8   \n",
       "3170                                f                              1   \n",
       "\n",
       "     reviews_per_month  \n",
       "0                 4.07  \n",
       "1                 1.48  \n",
       "2                 1.15  \n",
       "3                 0.89  \n",
       "4                 2.45  \n",
       "...                ...  \n",
       "3166              1.56  \n",
       "3167              0.63  \n",
       "3168              4.01  \n",
       "3169              0.30  \n",
       "3170              2.00  \n",
       "\n",
       "[3171 rows x 92 columns]"
      ]
     },
     "execution_count": 7,
     "metadata": {},
     "output_type": "execute_result"
    }
   ],
   "source": [
    "listing = listing[listing['review_scores_rating'].isnull()==False]\n",
    "listing=listing.reset_index(drop=True)\n",
    "listing"
   ]
  },
  {
   "cell_type": "code",
   "execution_count": 8,
   "metadata": {},
   "outputs": [
    {
     "data": {
      "text/plain": [
       "0        0.7901\n",
       "1        0.9875\n",
       "2        0.8718\n",
       "3        0.8313\n",
       "4        0.9783\n",
       "          ...  \n",
       "84844    0.9498\n",
       "84845    0.8658\n",
       "84846    0.0000\n",
       "84847    0.7233\n",
       "84848    0.9801\n",
       "Name: score, Length: 84849, dtype: float64"
      ]
     },
     "execution_count": 8,
     "metadata": {},
     "output_type": "execute_result"
    }
   ],
   "source": [
    "scores_df = pd.DataFrame(scores)\n",
    "reviews['score']=scores_df['compound']\n",
    "reviews['score']"
   ]
  },
  {
   "cell_type": "code",
   "execution_count": 9,
   "metadata": {},
   "outputs": [],
   "source": [
    "analyser_review = []\n",
    "for index, row in listing.iterrows():\n",
    "    review = reviews['score'][reviews['listing_id'] == row['id']]\n",
    "    analyser_review.append(review.mean())"
   ]
  },
  {
   "cell_type": "code",
   "execution_count": 10,
   "metadata": {},
   "outputs": [
    {
     "data": {
      "text/html": [
       "<div>\n",
       "<style scoped>\n",
       "    .dataframe tbody tr th:only-of-type {\n",
       "        vertical-align: middle;\n",
       "    }\n",
       "\n",
       "    .dataframe tbody tr th {\n",
       "        vertical-align: top;\n",
       "    }\n",
       "\n",
       "    .dataframe thead th {\n",
       "        text-align: right;\n",
       "    }\n",
       "</style>\n",
       "<table border=\"1\" class=\"dataframe\">\n",
       "  <thead>\n",
       "    <tr style=\"text-align: right;\">\n",
       "      <th></th>\n",
       "      <th>0</th>\n",
       "    </tr>\n",
       "  </thead>\n",
       "  <tbody>\n",
       "    <tr>\n",
       "      <th>0</th>\n",
       "      <td>0.894372</td>\n",
       "    </tr>\n",
       "    <tr>\n",
       "      <th>1</th>\n",
       "      <td>0.897614</td>\n",
       "    </tr>\n",
       "    <tr>\n",
       "      <th>2</th>\n",
       "      <td>0.891900</td>\n",
       "    </tr>\n",
       "    <tr>\n",
       "      <th>3</th>\n",
       "      <td>0.842034</td>\n",
       "    </tr>\n",
       "    <tr>\n",
       "      <th>4</th>\n",
       "      <td>0.950865</td>\n",
       "    </tr>\n",
       "    <tr>\n",
       "      <th>...</th>\n",
       "      <td>...</td>\n",
       "    </tr>\n",
       "    <tr>\n",
       "      <th>3166</th>\n",
       "      <td>0.940060</td>\n",
       "    </tr>\n",
       "    <tr>\n",
       "      <th>3167</th>\n",
       "      <td>0.679000</td>\n",
       "    </tr>\n",
       "    <tr>\n",
       "      <th>3168</th>\n",
       "      <td>0.917823</td>\n",
       "    </tr>\n",
       "    <tr>\n",
       "      <th>3169</th>\n",
       "      <td>0.000000</td>\n",
       "    </tr>\n",
       "    <tr>\n",
       "      <th>3170</th>\n",
       "      <td>0.960300</td>\n",
       "    </tr>\n",
       "  </tbody>\n",
       "</table>\n",
       "<p>3171 rows × 1 columns</p>\n",
       "</div>"
      ],
      "text/plain": [
       "             0\n",
       "0     0.894372\n",
       "1     0.897614\n",
       "2     0.891900\n",
       "3     0.842034\n",
       "4     0.950865\n",
       "...        ...\n",
       "3166  0.940060\n",
       "3167  0.679000\n",
       "3168  0.917823\n",
       "3169  0.000000\n",
       "3170  0.960300\n",
       "\n",
       "[3171 rows x 1 columns]"
      ]
     },
     "execution_count": 10,
     "metadata": {},
     "output_type": "execute_result"
    }
   ],
   "source": [
    "analyser_review_rating=pd.DataFrame(analyser_review)\n",
    "analyser_review_rating"
   ]
  },
  {
   "cell_type": "code",
   "execution_count": 11,
   "metadata": {},
   "outputs": [
    {
     "data": {
      "text/html": [
       "<div>\n",
       "<style scoped>\n",
       "    .dataframe tbody tr th:only-of-type {\n",
       "        vertical-align: middle;\n",
       "    }\n",
       "\n",
       "    .dataframe tbody tr th {\n",
       "        vertical-align: top;\n",
       "    }\n",
       "\n",
       "    .dataframe thead th {\n",
       "        text-align: right;\n",
       "    }\n",
       "</style>\n",
       "<table border=\"1\" class=\"dataframe\">\n",
       "  <thead>\n",
       "    <tr style=\"text-align: right;\">\n",
       "      <th></th>\n",
       "      <th>0</th>\n",
       "    </tr>\n",
       "  </thead>\n",
       "  <tbody>\n",
       "    <tr>\n",
       "      <th>0</th>\n",
       "      <td>94.72</td>\n",
       "    </tr>\n",
       "    <tr>\n",
       "      <th>1</th>\n",
       "      <td>94.88</td>\n",
       "    </tr>\n",
       "    <tr>\n",
       "      <th>2</th>\n",
       "      <td>94.60</td>\n",
       "    </tr>\n",
       "    <tr>\n",
       "      <th>3</th>\n",
       "      <td>92.10</td>\n",
       "    </tr>\n",
       "    <tr>\n",
       "      <th>4</th>\n",
       "      <td>97.54</td>\n",
       "    </tr>\n",
       "    <tr>\n",
       "      <th>...</th>\n",
       "      <td>...</td>\n",
       "    </tr>\n",
       "    <tr>\n",
       "      <th>3166</th>\n",
       "      <td>97.00</td>\n",
       "    </tr>\n",
       "    <tr>\n",
       "      <th>3167</th>\n",
       "      <td>83.95</td>\n",
       "    </tr>\n",
       "    <tr>\n",
       "      <th>3168</th>\n",
       "      <td>95.89</td>\n",
       "    </tr>\n",
       "    <tr>\n",
       "      <th>3169</th>\n",
       "      <td>50.00</td>\n",
       "    </tr>\n",
       "    <tr>\n",
       "      <th>3170</th>\n",
       "      <td>98.02</td>\n",
       "    </tr>\n",
       "  </tbody>\n",
       "</table>\n",
       "<p>3171 rows × 1 columns</p>\n",
       "</div>"
      ],
      "text/plain": [
       "          0\n",
       "0     94.72\n",
       "1     94.88\n",
       "2     94.60\n",
       "3     92.10\n",
       "4     97.54\n",
       "...     ...\n",
       "3166  97.00\n",
       "3167  83.95\n",
       "3168  95.89\n",
       "3169  50.00\n",
       "3170  98.02\n",
       "\n",
       "[3171 rows x 1 columns]"
      ]
     },
     "execution_count": 11,
     "metadata": {},
     "output_type": "execute_result"
    }
   ],
   "source": [
    "y=analyser_review_rating\n",
    "y=((y+1)/2)*100\n",
    "y=y.round(2)\n",
    "y"
   ]
  },
  {
   "cell_type": "code",
   "execution_count": 12,
   "metadata": {},
   "outputs": [
    {
     "data": {
      "text/plain": [
       "0       94.72\n",
       "1       94.88\n",
       "2       94.60\n",
       "3       92.10\n",
       "4       97.54\n",
       "        ...  \n",
       "3166    97.00\n",
       "3167    83.95\n",
       "3168    95.89\n",
       "3169    50.00\n",
       "3170    98.02\n",
       "Name: analyser_review_rating, Length: 3171, dtype: float64"
      ]
     },
     "execution_count": 12,
     "metadata": {},
     "output_type": "execute_result"
    }
   ],
   "source": [
    "listing['analyser_review_rating']=y\n",
    "listing['analyser_review_rating']"
   ]
  },
  {
   "cell_type": "markdown",
   "metadata": {},
   "source": [
    "### Linear Regression"
   ]
  },
  {
   "cell_type": "markdown",
   "metadata": {},
   "source": [
    "#### Predictors : review_scores_communication, review_scores_cleanliness, review_scores_checkin, review_scores_location"
   ]
  },
  {
   "cell_type": "markdown",
   "metadata": {},
   "source": [
    "#### With analyser_review_rating"
   ]
  },
  {
   "cell_type": "code",
   "execution_count": 13,
   "metadata": {},
   "outputs": [
    {
     "data": {
      "text/plain": [
       "0       94.72\n",
       "1       94.88\n",
       "2       94.60\n",
       "3       92.10\n",
       "4       97.54\n",
       "        ...  \n",
       "1764    95.30\n",
       "1765    98.20\n",
       "1766    94.66\n",
       "1767    93.93\n",
       "1768    95.89\n",
       "Name: analyser_review_rating, Length: 1769, dtype: float64"
      ]
     },
     "execution_count": 13,
     "metadata": {},
     "output_type": "execute_result"
    }
   ],
   "source": [
    "copy = listing\n",
    "copy=copy[copy['number_of_reviews']>10]\n",
    "copy=copy.reset_index(drop=True)\n",
    "copy['analyser_review_rating']"
   ]
  },
  {
   "cell_type": "code",
   "execution_count": 14,
   "metadata": {},
   "outputs": [
    {
     "data": {
      "text/plain": [
       "0       94.72\n",
       "1       94.88\n",
       "2       94.60\n",
       "3       92.10\n",
       "4       97.54\n",
       "        ...  \n",
       "1764    95.30\n",
       "1765    98.20\n",
       "1766    94.66\n",
       "1767    93.93\n",
       "1768    95.89\n",
       "Name: analyser_review_rating, Length: 1769, dtype: float64"
      ]
     },
     "execution_count": 14,
     "metadata": {},
     "output_type": "execute_result"
    }
   ],
   "source": [
    "y = copy['analyser_review_rating']\n",
    "X = pd.DataFrame(copy[[ \"review_scores_communication\", \"review_scores_cleanliness\", \"review_scores_checkin\", \"review_scores_location\"]])\n",
    "X = pd.concat([X,y],axis=1)\n",
    "X=X.dropna(axis=0, how='any')\n",
    "X=X.reset_index(drop=True)\n",
    "y=X['analyser_review_rating']\n",
    "X=X.drop(['analyser_review_rating'],axis=1)\n",
    "y\n"
   ]
  },
  {
   "cell_type": "code",
   "execution_count": 15,
   "metadata": {},
   "outputs": [
    {
     "name": "stdout",
     "output_type": "stream",
     "text": [
      "Intercept of Regression \t: b =  44.307132197910974\n",
      "Coefficients of Regression \t: a =  [1.51354095 1.63117237 1.39980349 0.57025419]\n",
      "\n"
     ]
    },
    {
     "data": {
      "image/png": "[encoded data removed]",
      "text/plain": [
       "<Figure size 1728x864 with 2 Axes>"
      ]
     },
     "metadata": {},
     "output_type": "display_data"
    },
    {
     "name": "stdout",
     "output_type": "stream",
     "text": [
      "Goodness of Fit of Model \tTrain Dataset\n",
      "Explained Variance (R^2) \t: 0.2904439957072589\n",
      "Mean Squared Error (MSE) \t: 8.008849397725543\n",
      "Mean Absolute Error (MAE) \t: 2.002888600161326\n",
      "\n",
      "Goodness of Fit of Model \tTest Dataset\n",
      "Explained Variance (R^2) \t: 0.3378946427396221\n",
      "Mean Squared Error (MSE) \t: 6.226549842554248\n",
      "Mean Absolute Error (MAE) \t: 1.8541541580484628\n",
      "\n"
     ]
    }
   ],
   "source": [
    "# Import essential models and functions from sklearn\n",
    "from sklearn.linear_model import LinearRegression\n",
    "from sklearn.model_selection import train_test_split\n",
    "from sklearn.metrics import mean_squared_error\n",
    "from sklearn.metrics import mean_absolute_error\n",
    "\n",
    "# Split the Dataset into Train and Test\n",
    "X_train, X_test, y_train, y_test = train_test_split(X, y, test_size = 0.25)\n",
    "\n",
    "# Linear Regression using Train Data\n",
    "linreg = LinearRegression()         # create the linear regression object\n",
    "linreg.fit(X_train, y_train)        # train the linear regression model\n",
    "\n",
    "# Coefficients of the Linear Regression line\n",
    "print('Intercept of Regression \\t: b = ', linreg.intercept_)\n",
    "print('Coefficients of Regression \\t: a = ', linreg.coef_)\n",
    "print()\n",
    "\n",
    "# Print the Coefficients against Predictors\n",
    "#print(pd.DataFrame(list(zip(X_train.columns, linreg.coef_[0])), columns = [\"Predictors\", \"Coefficients\"]))\n",
    "#print()\n",
    "\n",
    "# Predict Response corresponding to Predictors\n",
    "y_train_pred = linreg.predict(X_train)\n",
    "y_test_pred = linreg.predict(X_test)\n",
    "\n",
    "# Plot the Predictions vs the True values\n",
    "f, axes = plt.subplots(1, 2, figsize=(24, 12))\n",
    "axes[0].scatter(y_train, y_train_pred, color = \"blue\")\n",
    "axes[0].plot(y_train, y_train, 'w-', linewidth = 1)\n",
    "axes[0].set_xlabel(\"True values of the Response Variable (Train)\")\n",
    "axes[0].set_ylabel(\"Predicted values of the Response Variable (Train)\")\n",
    "axes[1].scatter(y_test, y_test_pred, color = \"green\")\n",
    "axes[1].plot(y_test, y_test, 'w-', linewidth = 1)\n",
    "axes[1].set_xlabel(\"True values of the Response Variable (Test)\")\n",
    "axes[1].set_ylabel(\"Predicted values of the Response Variable (Test)\")\n",
    "plt.show()\n",
    "\n",
    "# Check the Goodness of Fit (on Train Data)\n",
    "print(\"Goodness of Fit of Model \\tTrain Dataset\")\n",
    "print(\"Explained Variance (R^2) \\t:\", linreg.score(X_train, y_train))\n",
    "print(\"Mean Squared Error (MSE) \\t:\", mean_squared_error(y_train, y_train_pred))\n",
    "print(\"Mean Absolute Error (MAE) \\t:\", mean_absolute_error(y_train, y_train_pred))\n",
    "print()\n",
    "\n",
    "# Check the Goodness of Fit (on Test Data)\n",
    "print(\"Goodness of Fit of Model \\tTest Dataset\")\n",
    "print(\"Explained Variance (R^2) \\t:\", linreg.score(X_test, y_test))\n",
    "print(\"Mean Squared Error (MSE) \\t:\", mean_squared_error(y_test, y_test_pred))\n",
    "print(\"Mean Absolute Error (MAE) \\t:\", mean_absolute_error(y_test, y_test_pred))\n",
    "print()"
   ]
  },
  {
   "cell_type": "markdown",
   "metadata": {},
   "source": [
    "#### Below, Random Forest is used\n",
    "A graph is plotted using different number of estimators to see how if more estimators would provide a better result. Which it usually does. Results can be quite inconsistent upon running. Run this block a couple of times to see how scores change."
   ]
  },
  {
   "cell_type": "code",
   "execution_count": null,
   "metadata": {},
   "outputs": [],
   "source": [
    "from sklearn.ensemble import RandomForestRegressor\n",
    "# X_train, X_test, y_train, y_test = train_test_split(X, y, test_size = 0.25)\n",
    "est = np.arange(10, 100, 5)\n",
    "train_scores = []\n",
    "test_scores = []\n",
    "\n",
    "rfr = RandomForestRegressor(n_jobs = -1, random_state=0)\n",
    "y_train = np.ravel(y_train)\n",
    "for n in est:\n",
    "    rfr.set_params(n_estimators=n)\n",
    "    rfr.fit(X_train, y_train)\n",
    "#     y_train_pred = rfr.predict(X_train)\n",
    "#     y_test_pred = rfr.predict(X_test)\n",
    "    \n",
    "#     find the score of current fitted model. compares against both test and train\n",
    "    train_scores.append(rfr.score(X_train, y_train))\n",
    "    test_scores.append(rfr.score(X_test, y_test))\n",
    "\n",
    "# uncomment to plot on same graph\n",
    "# plt.title(\"Effect of n_estimators\")\n",
    "# plt.xlabel(\"n_estimator\")\n",
    "# plt.ylabel(\"score\")\n",
    "# plt.plot(est, test_scores)\n",
    "# plt.plot(est, train_scores)\n",
    "\n",
    "f, axes = plt.subplots(1, 2, figsize=(24, 12))\n",
    "axes[0].plot(est, test_scores)\n",
    "axes[0].set_xlabel(\"n_estimator\")\n",
    "axes[0].set_ylabel(\"test score\")\n",
    "axes[1].plot(est, train_scores)\n",
    "axes[1].set_xlabel(\"n_estimator\")\n",
    "axes[1].set_ylabel(\"train score\")\n"
   ]
  },
  {
   "cell_type": "markdown",
   "metadata": {},
   "source": [
    "#### With review_scores_rating"
   ]
  },
  {
   "cell_type": "code",
   "execution_count": 16,
   "metadata": {},
   "outputs": [
    {
     "data": {
      "text/plain": [
       "0        95.0\n",
       "1        96.0\n",
       "2        97.0\n",
       "3        92.0\n",
       "4        95.0\n",
       "        ...  \n",
       "1764     98.0\n",
       "1765    100.0\n",
       "1766     95.0\n",
       "1767     96.0\n",
       "1768     96.0\n",
       "Name: review_scores_rating, Length: 1769, dtype: float64"
      ]
     },
     "execution_count": 16,
     "metadata": {},
     "output_type": "execute_result"
    }
   ],
   "source": [
    "y = copy['review_scores_rating']\n",
    "X = pd.DataFrame(copy[[ \"review_scores_communication\", \"review_scores_cleanliness\", \"review_scores_checkin\", \"review_scores_location\"]])\n",
    "X = pd.concat([X,y],axis=1)\n",
    "X=X.dropna(axis=0, how='any')\n",
    "X=X.reset_index(drop=True)\n",
    "y=X['review_scores_rating']\n",
    "X=X.drop(['review_scores_rating'],axis=1)\n",
    "y\n"
   ]
  },
  {
   "cell_type": "code",
   "execution_count": 17,
   "metadata": {},
   "outputs": [
    {
     "name": "stdout",
     "output_type": "stream",
     "text": [
      "Intercept of Regression \t: b =  2.467952963035117\n",
      "Coefficients of Regression \t: a =  [2.68175444 3.24261237 1.97731102 1.58165318]\n",
      "\n"
     ]
    },
    {
     "data": {
      "image/png": "[encoded data removed]",
      "text/plain": [
       "<Figure size 1728x864 with 2 Axes>"
      ]
     },
     "metadata": {},
     "output_type": "display_data"
    },
    {
     "name": "stdout",
     "output_type": "stream",
     "text": [
      "Goodness of Fit of Model \tTrain Dataset\n",
      "Explained Variance (R^2) \t: 0.65710331450883\n",
      "Mean Squared Error (MSE) \t: 6.084563684914061\n",
      "Mean Absolute Error (MAE) \t: 1.8685466482355155\n",
      "\n",
      "Goodness of Fit of Model \tTest Dataset\n",
      "Explained Variance (R^2) \t: 0.5847559240676845\n",
      "Mean Squared Error (MSE) \t: 6.093033798090331\n",
      "Mean Absolute Error (MAE) \t: 1.929896061964826\n",
      "\n"
     ]
    }
   ],
   "source": [
    "# Import essential models and functions from sklearn\n",
    "from sklearn.linear_model import LinearRegression\n",
    "from sklearn.model_selection import train_test_split\n",
    "from sklearn.metrics import mean_squared_error\n",
    "from sklearn.metrics import mean_absolute_error\n",
    "\n",
    "# Split the Dataset into Train and Test\n",
    "X_train, X_test, y_train, y_test = train_test_split(X, y, test_size = 0.25)\n",
    "\n",
    "# Linear Regression using Train Data\n",
    "linreg = LinearRegression()         # create the linear regression object\n",
    "linreg.fit(X_train, y_train)        # train the linear regression model\n",
    "\n",
    "# Coefficients of the Linear Regression line\n",
    "print('Intercept of Regression \\t: b = ', linreg.intercept_)\n",
    "print('Coefficients of Regression \\t: a = ', linreg.coef_)\n",
    "print()\n",
    "\n",
    "# Print the Coefficients against Predictors\n",
    "#print(pd.DataFrame(list(zip(X_train.columns, linreg.coef_[0])), columns = [\"Predictors\", \"Coefficients\"]))\n",
    "#print()\n",
    "\n",
    "# Predict Response corresponding to Predictors\n",
    "y_train_pred = linreg.predict(X_train)\n",
    "y_test_pred = linreg.predict(X_test)\n",
    "\n",
    "# Plot the Predictions vs the True values\n",
    "f, axes = plt.subplots(1, 2, figsize=(24, 12))\n",
    "axes[0].scatter(y_train, y_train_pred, color = \"blue\")\n",
    "axes[0].plot(y_train, y_train, 'w-', linewidth = 1)\n",
    "axes[0].set_xlabel(\"True values of the Response Variable (Train)\")\n",
    "axes[0].set_ylabel(\"Predicted values of the Response Variable (Train)\")\n",
    "axes[1].scatter(y_test, y_test_pred, color = \"green\")\n",
    "axes[1].plot(y_test, y_test, 'w-', linewidth = 1)\n",
    "axes[1].set_xlabel(\"True values of the Response Variable (Test)\")\n",
    "axes[1].set_ylabel(\"Predicted values of the Response Variable (Test)\")\n",
    "plt.show()\n",
    "\n",
    "# Check the Goodness of Fit (on Train Data)\n",
    "print(\"Goodness of Fit of Model \\tTrain Dataset\")\n",
    "print(\"Explained Variance (R^2) \\t:\", linreg.score(X_train, y_train))\n",
    "print(\"Mean Squared Error (MSE) \\t:\", mean_squared_error(y_train, y_train_pred))\n",
    "print(\"Mean Absolute Error (MAE) \\t:\", mean_absolute_error(y_train, y_train_pred))\n",
    "print()\n",
    "\n",
    "# Check the Goodness of Fit (on Test Data)\n",
    "print(\"Goodness of Fit of Model \\tTest Dataset\")\n",
    "print(\"Explained Variance (R^2) \\t:\", linreg.score(X_test, y_test))\n",
    "print(\"Mean Squared Error (MSE) \\t:\", mean_squared_error(y_test, y_test_pred))\n",
    "print(\"Mean Absolute Error (MAE) \\t:\", mean_absolute_error(y_test, y_test_pred))\n",
    "print()"
   ]
  },
  {
   "cell_type": "code",
   "execution_count": 42,
   "metadata": {},
   "outputs": [
    {
     "data": {
      "text/plain": [
       "Text(0, 0.5, 'train score')"
      ]
     },
     "execution_count": 42,
     "metadata": {},
     "output_type": "execute_result"
    },
    {
     "data": {
      "image/png": "[encoded data removed]",
      "text/plain": [
       "<Figure size 1728x864 with 2 Axes>"
      ]
     },
     "metadata": {},
     "output_type": "display_data"
    }
   ],
   "source": [
    "from sklearn.ensemble import RandomForestRegressor\n",
    "# X_train, X_test, y_train, y_test = train_test_split(X, y, test_size = 0.25)\n",
    "est = np.arange(10, 100, 5)\n",
    "train_scores = []\n",
    "test_scores = []\n",
    "\n",
    "rfr = RandomForestRegressor(n_jobs = -1, random_state=0)\n",
    "y_train = np.ravel(y_train)\n",
    "for n in est:\n",
    "    rfr.set_params(n_estimators=n)\n",
    "    rfr.fit(X_train, y_train)\n",
    "#     y_train_pred = rfr.predict(X_train)\n",
    "#     y_test_pred = rfr.predict(X_test)\n",
    "    \n",
    "#     find the score of current fitted model. compares against both test and train\n",
    "    train_scores.append(rfr.score(X_train, y_train))\n",
    "    test_scores.append(rfr.score(X_test, y_test))\n",
    "\n",
    "f, axes = plt.subplots(1, 2, figsize=(24, 12))\n",
    "axes[0].plot(est, test_scores)\n",
    "axes[0].set_xlabel(\"n_estimator\")\n",
    "axes[0].set_ylabel(\"test score\")\n",
    "axes[1].plot(est, train_scores)\n",
    "axes[1].set_xlabel(\"n_estimator\")\n",
    "axes[1].set_ylabel(\"train score\")\n"
   ]
  },
  {
   "cell_type": "markdown",
   "metadata": {},
   "source": [
    "### Decison Tree Regressor"
   ]
  },
  {
   "cell_type": "markdown",
   "metadata": {},
   "source": [
    "#### With analyser_review_rating"
   ]
  },
  {
   "cell_type": "code",
   "execution_count": 18,
   "metadata": {},
   "outputs": [],
   "source": [
    "review_cat = []\n",
    "y=listing['analyser_review_rating']\n",
    "for item,row in listing.iterrows():\n",
    "    if (row['analyser_review_rating']<=100 and row['analyser_review_rating']>=95):\n",
    "        review_cat.append(9)\n",
    "    if (row['analyser_review_rating']<95 and row['analyser_review_rating']>=90):\n",
    "        review_cat.append(9)\n",
    "    if (row['analyser_review_rating']<90 and row['analyser_review_rating']>=80):\n",
    "        review_cat.append(8)\n",
    "    if (row['analyser_review_rating']<80 and row['analyser_review_rating']>=70):\n",
    "        review_cat.append(7)\n",
    "    if (row['analyser_review_rating']<70 and row['analyser_review_rating']>=60):\n",
    "        review_cat.append(6)\n",
    "    if (row['analyser_review_rating']<60 and row['analyser_review_rating']>=50):\n",
    "        review_cat.append(5)\n",
    "    if (row['analyser_review_rating']<50 and row['analyser_review_rating']>=40):\n",
    "        review_cat.append(4)\n",
    "    if (row['analyser_review_rating']<40 and row['analyser_review_rating']>=30):\n",
    "        review_cat.append(3)\n",
    "    if (row['analyser_review_rating']<30 and row['analyser_review_rating']>=20):\n",
    "        review_cat.append(2)\n",
    "    if (row['analyser_review_rating']<20 and row['analyser_review_rating']>=10):\n",
    "        review_cat.append(1)\n",
    "    if (row['analyser_review_rating']<10 and row['analyser_review_rating']>=0):\n",
    "        review_cat.append(0)"
   ]
  },
  {
   "cell_type": "code",
   "execution_count": 19,
   "metadata": {},
   "outputs": [
    {
     "data": {
      "text/html": [
       "<div>\n",
       "<style scoped>\n",
       "    .dataframe tbody tr th:only-of-type {\n",
       "        vertical-align: middle;\n",
       "    }\n",
       "\n",
       "    .dataframe tbody tr th {\n",
       "        vertical-align: top;\n",
       "    }\n",
       "\n",
       "    .dataframe thead th {\n",
       "        text-align: right;\n",
       "    }\n",
       "</style>\n",
       "<table border=\"1\" class=\"dataframe\">\n",
       "  <thead>\n",
       "    <tr style=\"text-align: right;\">\n",
       "      <th></th>\n",
       "      <th>0</th>\n",
       "    </tr>\n",
       "  </thead>\n",
       "  <tbody>\n",
       "    <tr>\n",
       "      <th>0</th>\n",
       "      <td>9</td>\n",
       "    </tr>\n",
       "    <tr>\n",
       "      <th>1</th>\n",
       "      <td>9</td>\n",
       "    </tr>\n",
       "    <tr>\n",
       "      <th>2</th>\n",
       "      <td>9</td>\n",
       "    </tr>\n",
       "    <tr>\n",
       "      <th>3</th>\n",
       "      <td>9</td>\n",
       "    </tr>\n",
       "    <tr>\n",
       "      <th>4</th>\n",
       "      <td>9</td>\n",
       "    </tr>\n",
       "    <tr>\n",
       "      <th>...</th>\n",
       "      <td>...</td>\n",
       "    </tr>\n",
       "    <tr>\n",
       "      <th>3166</th>\n",
       "      <td>9</td>\n",
       "    </tr>\n",
       "    <tr>\n",
       "      <th>3167</th>\n",
       "      <td>8</td>\n",
       "    </tr>\n",
       "    <tr>\n",
       "      <th>3168</th>\n",
       "      <td>9</td>\n",
       "    </tr>\n",
       "    <tr>\n",
       "      <th>3169</th>\n",
       "      <td>5</td>\n",
       "    </tr>\n",
       "    <tr>\n",
       "      <th>3170</th>\n",
       "      <td>9</td>\n",
       "    </tr>\n",
       "  </tbody>\n",
       "</table>\n",
       "<p>3171 rows × 1 columns</p>\n",
       "</div>"
      ],
      "text/plain": [
       "      0\n",
       "0     9\n",
       "1     9\n",
       "2     9\n",
       "3     9\n",
       "4     9\n",
       "...  ..\n",
       "3166  9\n",
       "3167  8\n",
       "3168  9\n",
       "3169  5\n",
       "3170  9\n",
       "\n",
       "[3171 rows x 1 columns]"
      ]
     },
     "execution_count": 19,
     "metadata": {},
     "output_type": "execute_result"
    }
   ],
   "source": [
    "review_cat=pd.DataFrame(review_cat)\n",
    "review_cat"
   ]
  },
  {
   "cell_type": "code",
   "execution_count": 20,
   "metadata": {},
   "outputs": [
    {
     "data": {
      "text/plain": [
       "0       9\n",
       "1       9\n",
       "2       9\n",
       "3       9\n",
       "4       9\n",
       "       ..\n",
       "3166    9\n",
       "3167    8\n",
       "3168    9\n",
       "3169    5\n",
       "3170    9\n",
       "Name: review_cat, Length: 3171, dtype: int64"
      ]
     },
     "execution_count": 20,
     "metadata": {},
     "output_type": "execute_result"
    }
   ],
   "source": [
    "listing['review_cat']=review_cat\n",
    "listing['review_cat']"
   ]
  },
  {
   "cell_type": "code",
   "execution_count": 21,
   "metadata": {},
   "outputs": [
    {
     "data": {
      "text/plain": [
       "0       9\n",
       "1       9\n",
       "2       9\n",
       "3       9\n",
       "4       9\n",
       "       ..\n",
       "1764    9\n",
       "1765    9\n",
       "1766    9\n",
       "1767    9\n",
       "1768    9\n",
       "Name: review_cat, Length: 1769, dtype: int64"
      ]
     },
     "execution_count": 21,
     "metadata": {},
     "output_type": "execute_result"
    }
   ],
   "source": [
    "copy = listing\n",
    "copy=copy[copy['number_of_reviews']>10]\n",
    "copy=copy.reset_index(drop=True)\n",
    "copy['review_cat']"
   ]
  },
  {
   "cell_type": "code",
   "execution_count": 22,
   "metadata": {},
   "outputs": [
    {
     "data": {
      "text/html": [
       "<div>\n",
       "<style scoped>\n",
       "    .dataframe tbody tr th:only-of-type {\n",
       "        vertical-align: middle;\n",
       "    }\n",
       "\n",
       "    .dataframe tbody tr th {\n",
       "        vertical-align: top;\n",
       "    }\n",
       "\n",
       "    .dataframe thead th {\n",
       "        text-align: right;\n",
       "    }\n",
       "</style>\n",
       "<table border=\"1\" class=\"dataframe\">\n",
       "  <thead>\n",
       "    <tr style=\"text-align: right;\">\n",
       "      <th></th>\n",
       "      <th>review_scores_communication</th>\n",
       "      <th>review_scores_cleanliness</th>\n",
       "      <th>review_scores_checkin</th>\n",
       "      <th>review_scores_location</th>\n",
       "    </tr>\n",
       "  </thead>\n",
       "  <tbody>\n",
       "    <tr>\n",
       "      <th>0</th>\n",
       "      <td>10.0</td>\n",
       "      <td>10.0</td>\n",
       "      <td>10.0</td>\n",
       "      <td>9.0</td>\n",
       "    </tr>\n",
       "    <tr>\n",
       "      <th>1</th>\n",
       "      <td>10.0</td>\n",
       "      <td>10.0</td>\n",
       "      <td>10.0</td>\n",
       "      <td>10.0</td>\n",
       "    </tr>\n",
       "    <tr>\n",
       "      <th>2</th>\n",
       "      <td>10.0</td>\n",
       "      <td>10.0</td>\n",
       "      <td>10.0</td>\n",
       "      <td>10.0</td>\n",
       "    </tr>\n",
       "    <tr>\n",
       "      <th>3</th>\n",
       "      <td>10.0</td>\n",
       "      <td>9.0</td>\n",
       "      <td>10.0</td>\n",
       "      <td>9.0</td>\n",
       "    </tr>\n",
       "    <tr>\n",
       "      <th>4</th>\n",
       "      <td>10.0</td>\n",
       "      <td>10.0</td>\n",
       "      <td>10.0</td>\n",
       "      <td>10.0</td>\n",
       "    </tr>\n",
       "    <tr>\n",
       "      <th>...</th>\n",
       "      <td>...</td>\n",
       "      <td>...</td>\n",
       "      <td>...</td>\n",
       "      <td>...</td>\n",
       "    </tr>\n",
       "    <tr>\n",
       "      <th>1764</th>\n",
       "      <td>10.0</td>\n",
       "      <td>10.0</td>\n",
       "      <td>10.0</td>\n",
       "      <td>10.0</td>\n",
       "    </tr>\n",
       "    <tr>\n",
       "      <th>1765</th>\n",
       "      <td>10.0</td>\n",
       "      <td>10.0</td>\n",
       "      <td>10.0</td>\n",
       "      <td>10.0</td>\n",
       "    </tr>\n",
       "    <tr>\n",
       "      <th>1766</th>\n",
       "      <td>10.0</td>\n",
       "      <td>10.0</td>\n",
       "      <td>10.0</td>\n",
       "      <td>10.0</td>\n",
       "    </tr>\n",
       "    <tr>\n",
       "      <th>1767</th>\n",
       "      <td>10.0</td>\n",
       "      <td>9.0</td>\n",
       "      <td>10.0</td>\n",
       "      <td>10.0</td>\n",
       "    </tr>\n",
       "    <tr>\n",
       "      <th>1768</th>\n",
       "      <td>10.0</td>\n",
       "      <td>10.0</td>\n",
       "      <td>10.0</td>\n",
       "      <td>9.0</td>\n",
       "    </tr>\n",
       "  </tbody>\n",
       "</table>\n",
       "<p>1769 rows × 4 columns</p>\n",
       "</div>"
      ],
      "text/plain": [
       "      review_scores_communication  review_scores_cleanliness  \\\n",
       "0                            10.0                       10.0   \n",
       "1                            10.0                       10.0   \n",
       "2                            10.0                       10.0   \n",
       "3                            10.0                        9.0   \n",
       "4                            10.0                       10.0   \n",
       "...                           ...                        ...   \n",
       "1764                         10.0                       10.0   \n",
       "1765                         10.0                       10.0   \n",
       "1766                         10.0                       10.0   \n",
       "1767                         10.0                        9.0   \n",
       "1768                         10.0                       10.0   \n",
       "\n",
       "      review_scores_checkin  review_scores_location  \n",
       "0                      10.0                     9.0  \n",
       "1                      10.0                    10.0  \n",
       "2                      10.0                    10.0  \n",
       "3                      10.0                     9.0  \n",
       "4                      10.0                    10.0  \n",
       "...                     ...                     ...  \n",
       "1764                   10.0                    10.0  \n",
       "1765                   10.0                    10.0  \n",
       "1766                   10.0                    10.0  \n",
       "1767                   10.0                    10.0  \n",
       "1768                   10.0                     9.0  \n",
       "\n",
       "[1769 rows x 4 columns]"
      ]
     },
     "execution_count": 22,
     "metadata": {},
     "output_type": "execute_result"
    }
   ],
   "source": [
    "# Import essential models and functions from sklearn\n",
    "from sklearn.tree import DecisionTreeClassifier\n",
    "from sklearn.model_selection import train_test_split\n",
    "from sklearn.metrics import confusion_matrix\n",
    "\n",
    "X = pd.DataFrame(copy[[\"review_scores_communication\", \"review_scores_cleanliness\", \"review_scores_checkin\", \"review_scores_location\",'review_cat']])\n",
    "X=X.dropna(axis=0, how='any')\n",
    "X=X.reset_index(drop=True)\n",
    "y=pd.DataFrame(X['review_cat'].astype('category'))\n",
    "X=X.drop(['review_cat'],axis=1)\n",
    "X"
   ]
  },
  {
   "cell_type": "code",
   "execution_count": 23,
   "metadata": {},
   "outputs": [],
   "source": [
    "X_train, X_test, y_train, y_test = train_test_split(X, y, test_size = 0.25)"
   ]
  },
  {
   "cell_type": "code",
   "execution_count": 24,
   "metadata": {},
   "outputs": [],
   "source": [
    "# Decision Tree using Train Data\n",
    "dectree = DecisionTreeClassifier(max_depth = 4)  # create the decision tree object\n",
    "dectree.fit(X_train, y_train)                    # train the decision tree model\n",
    "\n",
    "# Predict Response corresponding to Predictors\n",
    "y_train_pred = dectree.predict(X_train)\n",
    "y_test_pred = dectree.predict(X_test)"
   ]
  },
  {
   "cell_type": "code",
   "execution_count": 25,
   "metadata": {},
   "outputs": [
    {
     "name": "stdout",
     "output_type": "stream",
     "text": [
      "Goodness of Fit of Model \tTrain Dataset\n",
      "Classification Accuracy \t: 0.9200603318250377\n",
      "\n",
      "Goodness of Fit of Model \tTest Dataset\n",
      "Classification Accuracy \t: 0.9119638826185101\n",
      "\n"
     ]
    },
    {
     "data": {
      "text/plain": [
       "<matplotlib.axes._subplots.AxesSubplot at 0x20e6e673470>"
      ]
     },
     "execution_count": 25,
     "metadata": {},
     "output_type": "execute_result"
    },
    {
     "data": {
      "image/png": "[encoded data removed]",
      "text/plain": [
       "<Figure size 864x1728 with 4 Axes>"
      ]
     },
     "metadata": {},
     "output_type": "display_data"
    }
   ],
   "source": [
    "# Check the Goodness of Fit (on Train Data)\n",
    "print(\"Goodness of Fit of Model \\tTrain Dataset\")\n",
    "print(\"Classification Accuracy \\t:\", dectree.score(X_train, y_train))\n",
    "print()\n",
    "\n",
    "# Check the Goodness of Fit (on Test Data)\n",
    "print(\"Goodness of Fit of Model \\tTest Dataset\")\n",
    "print(\"Classification Accuracy \\t:\", dectree.score(X_test, y_test))\n",
    "print()\n",
    "\n",
    "# Plot the Confusion Matrix for Train and Test\n",
    "f, axes = plt.subplots(2, 1, figsize=(12, 24))\n",
    "sb.heatmap(confusion_matrix(y_train, y_train_pred),\n",
    "           annot = True, fmt=\".0f\", annot_kws={\"size\": 18}, ax = axes[0])\n",
    "sb.heatmap(confusion_matrix(y_test, y_test_pred), \n",
    "           annot = True, fmt=\".0f\", annot_kws={\"size\": 18}, ax = axes[1])"
   ]
  },
  {
   "cell_type": "markdown",
   "metadata": {},
   "source": [
    "### Logistic Regression"
   ]
  },
  {
   "cell_type": "markdown",
   "metadata": {},
   "source": [
    "#### With analyser_review_rating"
   ]
  },
  {
   "cell_type": "code",
   "execution_count": 26,
   "metadata": {},
   "outputs": [
    {
     "name": "stderr",
     "output_type": "stream",
     "text": [
      "c:\\users\\ash\\desktop\\ntu\\dsai cz1015\\airbnb data science project\\myenv\\lib\\site-packages\\sklearn\\utils\\validation.py:760: DataConversionWarning: A column-vector y was passed when a 1d array was expected. Please change the shape of y to (n_samples, ), for example using ravel().\n",
      "  y = column_or_1d(y, warn=True)\n"
     ]
    },
    {
     "data": {
      "text/plain": [
       "LogisticRegression(C=1.0, class_weight=None, dual=False, fit_intercept=True,\n",
       "                   intercept_scaling=1, l1_ratio=None, max_iter=1000,\n",
       "                   multi_class='ovr', n_jobs=None, penalty='l2',\n",
       "                   random_state=None, solver='newton-cg', tol=0.0001, verbose=0,\n",
       "                   warm_start=False)"
      ]
     },
     "execution_count": 26,
     "metadata": {},
     "output_type": "execute_result"
    }
   ],
   "source": [
    "from sklearn.linear_model import LogisticRegression\n",
    "#create an instance and fit the model \n",
    "logmodel = LogisticRegression(solver='newton-cg',multi_class='ovr',max_iter=1000)\n",
    "logmodel.fit(X_train, y_train)"
   ]
  },
  {
   "cell_type": "code",
   "execution_count": 27,
   "metadata": {},
   "outputs": [
    {
     "name": "stdout",
     "output_type": "stream",
     "text": [
      "              precision    recall  f1-score   support\n",
      "\n",
      "           7       0.00      0.00      0.00         2\n",
      "           8       0.54      0.20      0.29        35\n",
      "           9       0.93      0.99      0.96       406\n",
      "\n",
      "    accuracy                           0.92       443\n",
      "   macro avg       0.49      0.40      0.42       443\n",
      "weighted avg       0.90      0.92      0.90       443\n",
      "\n"
     ]
    },
    {
     "name": "stderr",
     "output_type": "stream",
     "text": [
      "c:\\users\\ash\\desktop\\ntu\\dsai cz1015\\airbnb data science project\\myenv\\lib\\site-packages\\sklearn\\metrics\\_classification.py:1272: UndefinedMetricWarning: Precision and F-score are ill-defined and being set to 0.0 in labels with no predicted samples. Use `zero_division` parameter to control this behavior.\n",
      "  _warn_prf(average, modifier, msg_start, len(result))\n"
     ]
    }
   ],
   "source": [
    "#predictions\n",
    "Predictions = logmodel.predict(X_test)\n",
    "from sklearn.metrics import classification_report\n",
    "print(classification_report(y_test,Predictions))"
   ]
  },
  {
   "cell_type": "code",
   "execution_count": 28,
   "metadata": {},
   "outputs": [
    {
     "data": {
      "text/plain": [
       "array([[  0,   0,   2],\n",
       "       [  0,   7,  28],\n",
       "       [  0,   6, 400]], dtype=int64)"
      ]
     },
     "execution_count": 28,
     "metadata": {},
     "output_type": "execute_result"
    }
   ],
   "source": [
    "from sklearn import metrics\n",
    "cnf_matrix = metrics.confusion_matrix(y_test, Predictions)\n",
    "cnf_matrix"
   ]
  },
  {
   "cell_type": "markdown",
   "metadata": {},
   "source": [
    "### Decision Tree regressor"
   ]
  },
  {
   "cell_type": "markdown",
   "metadata": {},
   "source": [
    "#### With review_scores_rating"
   ]
  },
  {
   "cell_type": "code",
   "execution_count": 29,
   "metadata": {},
   "outputs": [],
   "source": [
    "review_cat = []\n",
    "listing = listing.reset_index(drop=True)\n",
    "for item,row in listing.iterrows():\n",
    "    if (row['review_scores_rating']<=100 and row['review_scores_rating']>=95):\n",
    "        review_cat.append(9)\n",
    "    if (row['review_scores_rating']<95 and row['review_scores_rating']>=90):\n",
    "        review_cat.append(9)\n",
    "    if (row['review_scores_rating']<90 and row['review_scores_rating']>=80):\n",
    "        review_cat.append(8)\n",
    "    if (row['review_scores_rating']<80 and row['review_scores_rating']>=70):\n",
    "        review_cat.append(7)\n",
    "    if (row['review_scores_rating']<70 and row['review_scores_rating']>=60):\n",
    "        review_cat.append(6)\n",
    "    if (row['review_scores_rating']<60 and row['review_scores_rating']>=50):\n",
    "        review_cat.append(5)\n",
    "    if (row['review_scores_rating']<50 and row['review_scores_rating']>=40):\n",
    "        review_cat.append(4)\n",
    "    if (row['review_scores_rating']<40 and row['review_scores_rating']>=30):\n",
    "        review_cat.append(3)\n",
    "    if (row['review_scores_rating']<30 and row['review_scores_rating']>=20):\n",
    "        review_cat.append(2)\n",
    "    if (row['review_scores_rating']<20 and row['review_scores_rating']>=10):\n",
    "        review_cat.append(1)\n",
    "    if (row['review_scores_rating']<10 and row['review_scores_rating']>=0):\n",
    "        review_cat.append(0)"
   ]
  },
  {
   "cell_type": "code",
   "execution_count": 30,
   "metadata": {},
   "outputs": [
    {
     "data": {
      "text/html": [
       "<div>\n",
       "<style scoped>\n",
       "    .dataframe tbody tr th:only-of-type {\n",
       "        vertical-align: middle;\n",
       "    }\n",
       "\n",
       "    .dataframe tbody tr th {\n",
       "        vertical-align: top;\n",
       "    }\n",
       "\n",
       "    .dataframe thead th {\n",
       "        text-align: right;\n",
       "    }\n",
       "</style>\n",
       "<table border=\"1\" class=\"dataframe\">\n",
       "  <thead>\n",
       "    <tr style=\"text-align: right;\">\n",
       "      <th></th>\n",
       "      <th>0</th>\n",
       "    </tr>\n",
       "  </thead>\n",
       "  <tbody>\n",
       "    <tr>\n",
       "      <th>0</th>\n",
       "      <td>9</td>\n",
       "    </tr>\n",
       "    <tr>\n",
       "      <th>1</th>\n",
       "      <td>9</td>\n",
       "    </tr>\n",
       "    <tr>\n",
       "      <th>2</th>\n",
       "      <td>9</td>\n",
       "    </tr>\n",
       "    <tr>\n",
       "      <th>3</th>\n",
       "      <td>9</td>\n",
       "    </tr>\n",
       "    <tr>\n",
       "      <th>4</th>\n",
       "      <td>9</td>\n",
       "    </tr>\n",
       "    <tr>\n",
       "      <th>...</th>\n",
       "      <td>...</td>\n",
       "    </tr>\n",
       "    <tr>\n",
       "      <th>3166</th>\n",
       "      <td>9</td>\n",
       "    </tr>\n",
       "    <tr>\n",
       "      <th>3167</th>\n",
       "      <td>9</td>\n",
       "    </tr>\n",
       "    <tr>\n",
       "      <th>3168</th>\n",
       "      <td>9</td>\n",
       "    </tr>\n",
       "    <tr>\n",
       "      <th>3169</th>\n",
       "      <td>8</td>\n",
       "    </tr>\n",
       "    <tr>\n",
       "      <th>3170</th>\n",
       "      <td>9</td>\n",
       "    </tr>\n",
       "  </tbody>\n",
       "</table>\n",
       "<p>3171 rows × 1 columns</p>\n",
       "</div>"
      ],
      "text/plain": [
       "      0\n",
       "0     9\n",
       "1     9\n",
       "2     9\n",
       "3     9\n",
       "4     9\n",
       "...  ..\n",
       "3166  9\n",
       "3167  9\n",
       "3168  9\n",
       "3169  8\n",
       "3170  9\n",
       "\n",
       "[3171 rows x 1 columns]"
      ]
     },
     "execution_count": 30,
     "metadata": {},
     "output_type": "execute_result"
    }
   ],
   "source": [
    "review_cat=pd.DataFrame(review_cat)\n",
    "review_cat"
   ]
  },
  {
   "cell_type": "code",
   "execution_count": 31,
   "metadata": {},
   "outputs": [
    {
     "data": {
      "text/plain": [
       "0       9\n",
       "1       9\n",
       "2       9\n",
       "3       9\n",
       "4       9\n",
       "       ..\n",
       "1764    9\n",
       "1765    9\n",
       "1766    9\n",
       "1767    9\n",
       "1768    9\n",
       "Name: review_cat, Length: 1769, dtype: int64"
      ]
     },
     "execution_count": 31,
     "metadata": {},
     "output_type": "execute_result"
    }
   ],
   "source": [
    "copy = listing\n",
    "copy=copy[copy['number_of_reviews']>10]\n",
    "copy=copy.reset_index(drop=True)\n",
    "copy['review_cat']"
   ]
  },
  {
   "cell_type": "code",
   "execution_count": 32,
   "metadata": {},
   "outputs": [
    {
     "data": {
      "text/html": [
       "<div>\n",
       "<style scoped>\n",
       "    .dataframe tbody tr th:only-of-type {\n",
       "        vertical-align: middle;\n",
       "    }\n",
       "\n",
       "    .dataframe tbody tr th {\n",
       "        vertical-align: top;\n",
       "    }\n",
       "\n",
       "    .dataframe thead th {\n",
       "        text-align: right;\n",
       "    }\n",
       "</style>\n",
       "<table border=\"1\" class=\"dataframe\">\n",
       "  <thead>\n",
       "    <tr style=\"text-align: right;\">\n",
       "      <th></th>\n",
       "      <th>review_scores_communication</th>\n",
       "      <th>review_scores_cleanliness</th>\n",
       "      <th>review_scores_checkin</th>\n",
       "      <th>review_scores_location</th>\n",
       "    </tr>\n",
       "  </thead>\n",
       "  <tbody>\n",
       "    <tr>\n",
       "      <th>0</th>\n",
       "      <td>10.0</td>\n",
       "      <td>10.0</td>\n",
       "      <td>10.0</td>\n",
       "      <td>9.0</td>\n",
       "    </tr>\n",
       "    <tr>\n",
       "      <th>1</th>\n",
       "      <td>10.0</td>\n",
       "      <td>10.0</td>\n",
       "      <td>10.0</td>\n",
       "      <td>10.0</td>\n",
       "    </tr>\n",
       "    <tr>\n",
       "      <th>2</th>\n",
       "      <td>10.0</td>\n",
       "      <td>10.0</td>\n",
       "      <td>10.0</td>\n",
       "      <td>10.0</td>\n",
       "    </tr>\n",
       "    <tr>\n",
       "      <th>3</th>\n",
       "      <td>10.0</td>\n",
       "      <td>9.0</td>\n",
       "      <td>10.0</td>\n",
       "      <td>9.0</td>\n",
       "    </tr>\n",
       "    <tr>\n",
       "      <th>4</th>\n",
       "      <td>10.0</td>\n",
       "      <td>10.0</td>\n",
       "      <td>10.0</td>\n",
       "      <td>10.0</td>\n",
       "    </tr>\n",
       "    <tr>\n",
       "      <th>...</th>\n",
       "      <td>...</td>\n",
       "      <td>...</td>\n",
       "      <td>...</td>\n",
       "      <td>...</td>\n",
       "    </tr>\n",
       "    <tr>\n",
       "      <th>1764</th>\n",
       "      <td>10.0</td>\n",
       "      <td>10.0</td>\n",
       "      <td>10.0</td>\n",
       "      <td>10.0</td>\n",
       "    </tr>\n",
       "    <tr>\n",
       "      <th>1765</th>\n",
       "      <td>10.0</td>\n",
       "      <td>10.0</td>\n",
       "      <td>10.0</td>\n",
       "      <td>10.0</td>\n",
       "    </tr>\n",
       "    <tr>\n",
       "      <th>1766</th>\n",
       "      <td>10.0</td>\n",
       "      <td>10.0</td>\n",
       "      <td>10.0</td>\n",
       "      <td>10.0</td>\n",
       "    </tr>\n",
       "    <tr>\n",
       "      <th>1767</th>\n",
       "      <td>10.0</td>\n",
       "      <td>9.0</td>\n",
       "      <td>10.0</td>\n",
       "      <td>10.0</td>\n",
       "    </tr>\n",
       "    <tr>\n",
       "      <th>1768</th>\n",
       "      <td>10.0</td>\n",
       "      <td>10.0</td>\n",
       "      <td>10.0</td>\n",
       "      <td>9.0</td>\n",
       "    </tr>\n",
       "  </tbody>\n",
       "</table>\n",
       "<p>1769 rows × 4 columns</p>\n",
       "</div>"
      ],
      "text/plain": [
       "      review_scores_communication  review_scores_cleanliness  \\\n",
       "0                            10.0                       10.0   \n",
       "1                            10.0                       10.0   \n",
       "2                            10.0                       10.0   \n",
       "3                            10.0                        9.0   \n",
       "4                            10.0                       10.0   \n",
       "...                           ...                        ...   \n",
       "1764                         10.0                       10.0   \n",
       "1765                         10.0                       10.0   \n",
       "1766                         10.0                       10.0   \n",
       "1767                         10.0                        9.0   \n",
       "1768                         10.0                       10.0   \n",
       "\n",
       "      review_scores_checkin  review_scores_location  \n",
       "0                      10.0                     9.0  \n",
       "1                      10.0                    10.0  \n",
       "2                      10.0                    10.0  \n",
       "3                      10.0                     9.0  \n",
       "4                      10.0                    10.0  \n",
       "...                     ...                     ...  \n",
       "1764                   10.0                    10.0  \n",
       "1765                   10.0                    10.0  \n",
       "1766                   10.0                    10.0  \n",
       "1767                   10.0                    10.0  \n",
       "1768                   10.0                     9.0  \n",
       "\n",
       "[1769 rows x 4 columns]"
      ]
     },
     "execution_count": 32,
     "metadata": {},
     "output_type": "execute_result"
    }
   ],
   "source": [
    "# Import essential models and functions from sklearn\n",
    "from sklearn.tree import DecisionTreeClassifier\n",
    "from sklearn.model_selection import train_test_split\n",
    "from sklearn.metrics import confusion_matrix\n",
    "\n",
    "X = pd.DataFrame(copy[[\"review_scores_communication\", \"review_scores_cleanliness\", \"review_scores_checkin\", \"review_scores_location\",'review_cat']])\n",
    "X=X.dropna(axis=0, how='any')\n",
    "X=X.reset_index(drop=True)\n",
    "y=pd.DataFrame(X['review_cat'].astype('category'))\n",
    "X=X.drop(['review_cat'],axis=1)\n",
    "X"
   ]
  },
  {
   "cell_type": "code",
   "execution_count": 33,
   "metadata": {},
   "outputs": [],
   "source": [
    "X_train, X_test, y_train, y_test = train_test_split(X, y, test_size = 0.25)"
   ]
  },
  {
   "cell_type": "code",
   "execution_count": 34,
   "metadata": {},
   "outputs": [],
   "source": [
    "# Decision Tree using Train Data\n",
    "dectree = DecisionTreeClassifier(max_depth = 4)  # create the decision tree object\n",
    "dectree.fit(X_train, y_train)                    # train the decision tree model\n",
    "\n",
    "# Predict Response corresponding to Predictors\n",
    "y_train_pred = dectree.predict(X_train)\n",
    "y_test_pred = dectree.predict(X_test)"
   ]
  },
  {
   "cell_type": "code",
   "execution_count": 35,
   "metadata": {},
   "outputs": [
    {
     "name": "stdout",
     "output_type": "stream",
     "text": [
      "Goodness of Fit of Model \tTrain Dataset\n",
      "Classification Accuracy \t: 0.9238310708898945\n",
      "\n",
      "Goodness of Fit of Model \tTest Dataset\n",
      "Classification Accuracy \t: 0.9051918735891648\n",
      "\n"
     ]
    },
    {
     "data": {
      "text/plain": [
       "<matplotlib.axes._subplots.AxesSubplot at 0x20e75355898>"
      ]
     },
     "execution_count": 35,
     "metadata": {},
     "output_type": "execute_result"
    },
    {
     "data": {
      "image/png": "[encoded data removed]",
      "text/plain": [
       "<Figure size 864x1728 with 4 Axes>"
      ]
     },
     "metadata": {},
     "output_type": "display_data"
    }
   ],
   "source": [
    "# Check the Goodness of Fit (on Train Data)\n",
    "print(\"Goodness of Fit of Model \\tTrain Dataset\")\n",
    "print(\"Classification Accuracy \\t:\", dectree.score(X_train, y_train))\n",
    "print()\n",
    "\n",
    "# Check the Goodness of Fit (on Test Data)\n",
    "print(\"Goodness of Fit of Model \\tTest Dataset\")\n",
    "print(\"Classification Accuracy \\t:\", dectree.score(X_test, y_test))\n",
    "print()\n",
    "\n",
    "# Plot the Confusion Matrix for Train and Test\n",
    "f, axes = plt.subplots(2, 1, figsize=(12, 24))\n",
    "sb.heatmap(confusion_matrix(y_train, y_train_pred),\n",
    "           annot = True, fmt=\".0f\", annot_kws={\"size\": 18}, ax = axes[0])\n",
    "sb.heatmap(confusion_matrix(y_test, y_test_pred), \n",
    "           annot = True, fmt=\".0f\", annot_kws={\"size\": 18}, ax = axes[1])"
   ]
  },
  {
   "cell_type": "markdown",
   "metadata": {},
   "source": [
    "### Logistic Regression"
   ]
  },
  {
   "cell_type": "markdown",
   "metadata": {},
   "source": [
    "#### With review_scores_rating"
   ]
  },
  {
   "cell_type": "code",
   "execution_count": 36,
   "metadata": {},
   "outputs": [
    {
     "name": "stderr",
     "output_type": "stream",
     "text": [
      "c:\\users\\ash\\desktop\\ntu\\dsai cz1015\\airbnb data science project\\myenv\\lib\\site-packages\\sklearn\\utils\\validation.py:760: DataConversionWarning: A column-vector y was passed when a 1d array was expected. Please change the shape of y to (n_samples, ), for example using ravel().\n",
      "  y = column_or_1d(y, warn=True)\n"
     ]
    },
    {
     "data": {
      "text/plain": [
       "LogisticRegression(C=1.0, class_weight=None, dual=False, fit_intercept=True,\n",
       "                   intercept_scaling=1, l1_ratio=None, max_iter=1000,\n",
       "                   multi_class='ovr', n_jobs=None, penalty='l2',\n",
       "                   random_state=None, solver='newton-cg', tol=0.0001, verbose=0,\n",
       "                   warm_start=False)"
      ]
     },
     "execution_count": 36,
     "metadata": {},
     "output_type": "execute_result"
    }
   ],
   "source": [
    "from sklearn.linear_model import LogisticRegression\n",
    "#create an instance and fit the model \n",
    "logmodel = LogisticRegression(solver='newton-cg',multi_class='ovr',max_iter=1000)\n",
    "logmodel.fit(X_train, y_train)"
   ]
  },
  {
   "cell_type": "code",
   "execution_count": 37,
   "metadata": {},
   "outputs": [
    {
     "name": "stdout",
     "output_type": "stream",
     "text": [
      "              precision    recall  f1-score   support\n",
      "\n",
      "           6       0.00      0.00      0.00         1\n",
      "           7       0.00      0.00      0.00         2\n",
      "           8       0.50      0.14      0.22        42\n",
      "           9       0.91      0.99      0.95       398\n",
      "\n",
      "    accuracy                           0.90       443\n",
      "   macro avg       0.35      0.28      0.29       443\n",
      "weighted avg       0.87      0.90      0.88       443\n",
      "\n"
     ]
    },
    {
     "name": "stderr",
     "output_type": "stream",
     "text": [
      "c:\\users\\ash\\desktop\\ntu\\dsai cz1015\\airbnb data science project\\myenv\\lib\\site-packages\\sklearn\\metrics\\_classification.py:1272: UndefinedMetricWarning: Precision and F-score are ill-defined and being set to 0.0 in labels with no predicted samples. Use `zero_division` parameter to control this behavior.\n",
      "  _warn_prf(average, modifier, msg_start, len(result))\n"
     ]
    }
   ],
   "source": [
    "#predictions\n",
    "Predictions = logmodel.predict(X_test)\n",
    "from sklearn.metrics import classification_report\n",
    "print(classification_report(y_test,Predictions))"
   ]
  },
  {
   "cell_type": "code",
   "execution_count": 38,
   "metadata": {},
   "outputs": [
    {
     "data": {
      "text/plain": [
       "array([[  0,   0,   0,   1],\n",
       "       [  0,   0,   2,   0],\n",
       "       [  0,   0,   6,  36],\n",
       "       [  0,   0,   4, 394]], dtype=int64)"
      ]
     },
     "execution_count": 38,
     "metadata": {},
     "output_type": "execute_result"
    }
   ],
   "source": [
    "from sklearn import metrics\n",
    "cnf_matrix = metrics.confusion_matrix(y_test, Predictions)\n",
    "cnf_matrix"
   ]
  },
  {
   "cell_type": "markdown",
   "metadata": {},
   "source": [
    "### Anomaly Detection"
   ]
  },
  {
   "cell_type": "code",
   "execution_count": null,
   "metadata": {},
   "outputs": [],
   "source": []
  },
  {
   "cell_type": "code",
   "execution_count": null,
   "metadata": {},
   "outputs": [],
   "source": []
  },
  {
   "cell_type": "code",
   "execution_count": null,
   "metadata": {},
   "outputs": [],
   "source": []
  }
 ],
 "metadata": {
  "kernelspec": {
   "display_name": "venv",
   "language": "python",
   "name": "venv"
  },
  "language_info": {
   "codemirror_mode": {
    "name": "ipython",
    "version": 3
   },
   "file_extension": ".py",
   "mimetype": "text/x-python",
   "name": "python",
   "nbconvert_exporter": "python",
   "pygments_lexer": "ipython3",
   "version": "3.7.3"
  }
 },
 "nbformat": 4,
 "nbformat_minor": 2
}
